{
 "cells": [
  {
   "cell_type": "markdown",
   "metadata": {},
   "source": [
    "# Chapter 3\n",
    "## Finite Markov Decision Process"
   ]
  },
  {
   "cell_type": "markdown",
   "metadata": {},
   "source": [
    "### 3.1 The Agent-Environment Interface"
   ]
  },
  {
   "cell_type": "markdown",
   "metadata": {},
   "source": [
    "#### Exercise 3.1\n",
    "Devise three example tasks of your own that fit into the MDP framework, identifying for each its states, actions, and rewards. Make the three examples as diferent from each other as possible. The framework is abstract and flexible and can be applied in many diferent ways. Stretch its limits in some way in at least one of your examples.\n",
    "\n",
    "- ***Inventory Management in Retail***\n",
    "\n",
    "  - ***States: current inventory levels of various products in a retail store***\n",
    "  - ***Actions: restocking, discounting, or leaving inventory unchanged***\n",
    "  - ***Rewards: might be based on sales revenue, with positive rewards for selling products at full price and negative rewards for holding excess inventory or discounting heavily***\n",
    "\n",
    "- ***Robot Navigation in a Maze***\n",
    "\n",
    "  - ***States: robot's position within a maze***\n",
    "  - ***Actions: the robot's movement directions (e.g., up, down, left, right)***\n",
    "  - ***Rewards: positive reward for reaching the goal state, negative reward for hitting obstacles or taking longer paths***\n",
    "\n",
    "- ***Healthcare Treatment Planning***\n",
    "\n",
    "  - ***States: current health condition of a patient (e.g., vital signs, symptoms, test results)***\n",
    "  - ***Actions: prescribing medication, ordering tests, or recommending lifestyle changes***\n",
    "  - ***Rewards: could be based on patient outcomes, such as improved health or reduced symptoms, with penalties for adverse effects of treatments or worsening conditions. Additionally, rewards may also consider cost-effectiveness of treatments***"
   ]
  },
  {
   "cell_type": "markdown",
   "metadata": {},
   "source": [
    "#### Exercise 3.2\n",
    "Is the MDP framework adequate to usefully represent all goal-directed learning tasks? Can you think of any clear exceptions?\n",
    "\n",
    "- ***An exception could be a task where the transition probabilities not only depends on the actual state, but previous states, breaking the Markov property. An example could be weather forecast, where the likekihood of the next weather conditions depends on preceding conditions***\n",
    "- ***Another exception can occur when the agent cannot fully identify a state inside the environment (partial observability), altough they can be converted to MDPs***"
   ]
  },
  {
   "cell_type": "markdown",
   "metadata": {},
   "source": [
    "#### Exercise 3.3\n",
    "Consider the problem of driving. You could define the actions in terms of the accelerator, steering wheel, and brake, that is, where your body meets the machine. Or you could define them farther out—say, where the rubber meets the road, considering your actions to be tire torques. Or you could define them farther in—say, where your brain meets your body, the actions being muscle twitches to control your limbs. Or you could go to a really high level and say that your actions are your choices of where to drive. What is the right level, the right place to draw the line between agent and environment? On what basis is one location of the line to be preferred over another? Is there any fundamental reason for preferring one location over another, or is it a free choice?\n",
    "\n",
    "- ***There are various factors to consider where to draw the line between the agent and the environment: task complexity, observation space, action space, computational efficienty, etc.***\n",
    "- ***There is no a \"better\" location over the others. The choice of the level of abstraction is a trade-off between complexity and generalization***\n",
    "- ***It is also possible to combine two or more levels of abstraction in a hierarchical learning system***"
   ]
  },
  {
   "cell_type": "markdown",
   "metadata": {},
   "source": [
    "#### Exercise 3.4\n",
    "Give a table analogous to that in Example 3.3, but for $p(s', r|s, a)$. It should have columns for $s$, $a$, $s'$, $r$, and $p(s', r | s, a)$, and a row for every 4-tuple for which $p(s', r|s, a) > 0$.\n",
    "\n",
    "- ***Similar to Example 3.3 because rewards are deterministic given $s$, $a$ and $s'$***\n",
    "\n",
    "|  $s$  |    $a$    | $s'$ |      $r$      | $p(s', r \\| s, a)$ |\n",
    "|-------|-----------|------|---------------|--------------------|\n",
    "| high  | search    | high | $r_{search}$  | $\\alpha$           |\n",
    "| high  | search    | low  | $r_{search}$  | $1 - \\alpha$       |\n",
    "| low   | search    | high | $-3$          | $1 - \\beta$        |\n",
    "| low   | search    | low  | $r_{search}$  | $\\beta$            |\n",
    "| high  | wait      | high | $r_{waig}$    | $1$                |\n",
    "| low   | wait      | low  | $r_{wait}$    | $1$                |\n",
    "| low   | recharge  | high | $0$           | $1$                |"
   ]
  },
  {
   "cell_type": "markdown",
   "metadata": {},
   "source": [
    "#### Exercise 3.5\n",
    "The equations in Section 3.1 are for the continuing case and need to be modified (very slightly) to apply to episodic tasks. Show that you know the modifications needed by giving the modified version of (3.3).\n",
    "\n",
    "- $\\sum_{s'\\in S^+} \\sum_{r\\in R} p(s', r | s, a) = 1$ for all $s\\in S^+$, $a\\in A$"
   ]
  },
  {
   "cell_type": "markdown",
   "metadata": {},
   "source": [
    "#### Exercise 3.6\n",
    "Suppose you treated pole-balancing as an episodic task but also used discounting, with all rewards zero except for $−1$ upon failure. What then would the return be at each time? How does this return differ from that in the discounted,  continuing formulation of this task?\n",
    "\n",
    "- $G_t = - \\gamma^{T-t-1}$ for all $t < T$, with $G_T = 0$"
   ]
  },
  {
   "cell_type": "markdown",
   "metadata": {},
   "source": [
    "#### Exercise 3.7\n",
    "Imagine that you are designing a robot to run a maze. You decide to give it a reward of $+1$ for escaping from the maze and a reward of zero at all other times. The task seems to break down naturally into episodes—the successive runs through the maze—so you decide to treat it as an episodic task, where the goal is to maximize expected total reward (3.7). After running the learning agent for a while, you find that it is showing no improvement in escaping from the maze. What is going wrong? Have you efectively communicated to the agent what you want it to achieve?\n",
    "\n",
    "- ***The agent will receive a sparse reward, $+1$ independently of the time taken to solve the maze, so it does not have a notion of the time taken to reach the goal. Thus, the agent will not improve as it does not have a way to differentiante between short and long runs. A way of solving this is to add a discounting factor to the return, or to change to a negative reward (e.g. $-1$) when the robot is not escaping form the maze.***"
   ]
  },
  {
   "cell_type": "markdown",
   "metadata": {},
   "source": [
    "#### Exercise 3.8\n",
    "Suppose $\\gamma$ = 0.5 and the following sequence of rewards is received $R_1 = −1$, $R_2 = 2$, $R_3 = 6$, $R_4 = 3$, and $R_5 = 2$, with $T = 5$. What are $G_0$, $G_1$, $...$, $G_5$? Hint: Work backwards.\n",
    "\n",
    "- $G_5 = 0$\n",
    "- $G_4 = R_5 + \\gamma G_5 = 2$\n",
    "- $G_3 = R_4 + \\gamma G_4 = 4$\n",
    "- $G_2 = R_3 + \\gamma G_3 = 8$\n",
    "- $G_1 = R_2 + \\gamma G_2 = 6$\n",
    "- $G_0 = R_1 + \\gamma G_1 = 2$"
   ]
  },
  {
   "cell_type": "markdown",
   "metadata": {},
   "source": [
    "#### Exercise 3.9\n",
    "Suppose $\\gamma$ = 0.9 and the reward sequence is $R_1 = 2$ followed by an infinite sequence of $7$ s. What are $G_1$ and $G_0$?\n",
    "\n",
    "- $G_1 = \\sum_{k=0}^{\\infty} \\gamma^k R_{k+2} = 7 * \\frac{1}{1-0.9} = 70$\n",
    "- $G_0 = R_1 + \\gamma G_1 = 65$"
   ]
  },
  {
   "cell_type": "markdown",
   "metadata": {},
   "source": [
    "#### Exercise 3.10\n",
    "Prove the second equality in (3.10).\n",
    "\n",
    "- $G_t = \\sum_{k=0}^{\\infty} \\gamma^k = \\sum_{k=-1}^{\\infty} \\gamma^{k+1} = 1 + \\sum_{k=0}^{\\infty} \\gamma^{k+1}$\n",
    "- $\\gamma G_t = \\sum_{k=0}^{\\infty} \\gamma^{k+1}$\n",
    "- $\\gamma G_t - G_t = 1 + \\sum_{k=0}^{\\infty} \\gamma^{k+1} - \\sum_{k=0}^{\\infty} \\gamma^{k+1} = 1$\n",
    "- $G_t = \\sum_{k=0}^{\\infty} \\gamma^k = \\frac{1}{1-\\gamma}$"
   ]
  },
  {
   "cell_type": "markdown",
   "metadata": {},
   "source": [
    "#### Exercise 3.11\n",
    "If the current state is $S_t$, and actions are selected according to a stochastic policy $\\pi$, then what is the expectation of $R_{t+1}$ in terms of $\\pi$ and the four-argument function $p$ (3.2)?\n",
    "\n",
    "- $\\mathbb{E}[R_{t+1} | S_t = s] = \\sum_{a} \\pi(a | s) * \\mathbb{E}[R_{t+1} | S_t = s, A_t = a] = \\sum_{a} \\pi(a | s) \\sum_{r} r \\sum_{s'} p(s', r | s, a)$"
   ]
  },
  {
   "cell_type": "markdown",
   "metadata": {},
   "source": [
    "#### Exercise 3.12\n",
    "Give an equation for $v_\\pi$ in terms of $q_\\pi$ and $\\pi$.\n",
    "\n",
    "- $v_\\pi(s) = \\sum_a \\pi(a | s) * q_\\pi(s, a)$"
   ]
  },
  {
   "cell_type": "markdown",
   "metadata": {},
   "source": [
    "#### Exercise 3.13\n",
    "Give an equation for $q_\\pi$ in terms of $v_\\pi$ and the four-argument $p$.\n",
    "\n",
    "- $q_\\pi(s, a) = \\sum_{s',r} p(s', r | s, a) [r + \\gamma v_\\pi(s')]$"
   ]
  },
  {
   "cell_type": "markdown",
   "metadata": {},
   "source": [
    "#### Example 3.5: Gridworld"
   ]
  },
  {
   "cell_type": "code",
   "execution_count": 1,
   "metadata": {},
   "outputs": [
    {
     "name": "stdout",
     "output_type": "stream",
     "text": [
      "Initial state: [3 2]\n",
      ". A . B . \n",
      ". . . . . \n",
      ". . . B'. \n",
      ". . x . . \n",
      ". A'. . . \n"
     ]
    }
   ],
   "source": [
    "from itertools import product\n",
    "\n",
    "import numpy as np\n",
    "import gymnasium as gym\n",
    "import matplotlib.pyplot as plt\n",
    "import gridworld\n",
    "\n",
    "seed = 42\n",
    "exceptional_reward_dynamics = {\n",
    "    \"A\": {\"from\": (0, 1), \"to\": (4, 1), \"reward\": 10.0},\n",
    "    \"B\": {\"from\": (0, 3), \"to\": (2, 3), \"reward\": 5.0}\n",
    "}\n",
    "env = gym.make(\"GridWorld-v0\", shape=(5, 5), reward_dynamics=exceptional_reward_dynamics)\n",
    "policy = 0.25 * np.ones(tuple(env.observation_space.nvec) + (env.action_space.n,), dtype=np.float32)\n",
    "action_str = [\"right\", \"up\", \"left\", \"down\"]\n",
    "state, _ = env.reset(seed=seed)\n",
    "np.random.seed(seed)\n",
    "print(\"Initial state:\", state)\n",
    "env.render()"
   ]
  },
  {
   "cell_type": "code",
   "execution_count": 2,
   "metadata": {},
   "outputs": [
    {
     "name": "stdout",
     "output_type": "stream",
     "text": [
      "Action: up\n",
      "Reward: 0.0\n",
      "Prob: 1.0\n",
      "State: [2 2]\n",
      ". A . B . \n",
      ". . . . . \n",
      ". . x B'. \n",
      ". . . . . \n",
      ". A'. . . \n"
     ]
    }
   ],
   "source": [
    "action = np.random.choice(env.action_space.n, p=policy[tuple(state)].flatten())\n",
    "state, reward, _, _, info = env.step(action)\n",
    "print(\"Action:\", action_str[action])\n",
    "print(\"Reward:\", reward)\n",
    "print(\"Prob:\", info[\"prob\"])\n",
    "print(\"State:\", state)\n",
    "env.render()"
   ]
  },
  {
   "cell_type": "markdown",
   "metadata": {},
   "source": [
    "#### Figure 3.2"
   ]
  },
  {
   "cell_type": "code",
   "execution_count": 3,
   "metadata": {},
   "outputs": [
    {
     "data": {
      "image/png": "[encoded data removed]",
      "text/plain": [
       "<Figure size 640x480 with 2 Axes>"
      ]
     },
     "metadata": {},
     "output_type": "display_data"
    }
   ],
   "source": [
    "gamma = 0.9\n",
    "num_states = env.observation_space.nvec.prod()\n",
    "transition_prob = env.unwrapped.prob.transpose(0, 1, 3, 4, 2)\n",
    "rewards = env.unwrapped.rewards.transpose(0, 1, 3, 4, 2)\n",
    "pol = np.expand_dims(policy, (2, 4))\n",
    "C = (transition_prob @ pol).reshape(num_states, num_states)\n",
    "A = np.eye(num_states) - gamma * C\n",
    "b = ((transition_prob * rewards).sum(axis=(2, 3), keepdims=True) @ pol).reshape(num_states)\n",
    "v = np.linalg.solve(A, b).reshape(env.observation_space.nvec)\n",
    "\n",
    "plt.imshow(v, cmap=\"winter\")\n",
    "for state in product(*[range(i) for i in v.shape]):\n",
    "    plt.text(*state[::-1], f\"{v[state]:.2f}\", ha=\"center\", va=\"center\", color=\"white\")\n",
    "plt.title(\"State-value function for the equiprobable random policy\")\n",
    "plt.colorbar()\n",
    "plt.show()"
   ]
  },
  {
   "cell_type": "markdown",
   "metadata": {},
   "source": [
    "#### Exercise 3.14\n",
    "The Bellman equation (3.14) must hold for each state for the value function $v_\\pi$ shown in Figure 3.2 (right) of Example 3.5. Show numerically that this equation holds for the center state, valued at $+0.7$, with respect to its four neighboring states, valued at $+2.3$, $+0.4$, $−0.4$, and $+0.7$. (These numbers are accurate only to one decimal place).\n",
    "\n",
    "- $v_\\pi(s) = \\sum_a \\pi(a | s) * \\sum_{s',r} p(s', r | s, a) [r + \\gamma v_\\pi(s')]$\n",
    "- $0.67 \\simeq 0.25 * 0.9 * (2.25 + 0.36 - 0.35 + 0.74) = 0.675$"
   ]
  },
  {
   "cell_type": "markdown",
   "metadata": {},
   "source": [
    "#### Exercise 3.15\n",
    "In the gridworld example, rewards are positive for goals, negative for running into the edge of the world, and zero the rest of the time. Are the signs of these rewards important, or only the intervals between them? Prove, using (3.8), that adding a constant $c$ to all the rewards adds a constant, $v_c$, to the values of all states, and thus does not afect the relative values of any states under any policies. What is $v_c$ in terms of $c$ and $\\gamma$?\n",
    "\n",
    "- ***The signs of the rewards are not important for continuing tasks, the intervals is what the agent will take into consideretion to select an action.***\n",
    "- $G_t = \\sum_{k=0}^{\\infty} \\gamma^k (R_{t+k+1} + c) = \\sum_{k=0}^{\\infty} \\gamma^k R_{t+k+1} + c \\sum_{k=0}^{\\infty} \\gamma^k = \\sum_{k=0}^{\\infty} \\gamma^k R_{t+k+1} + \\frac{c}{1 - \\gamma}$\n",
    "- $v_c = \\frac{c}{1 - \\gamma}$"
   ]
  },
  {
   "cell_type": "markdown",
   "metadata": {},
   "source": [
    "#### Exercise 3.16\n",
    "Now consider adding a constant $c$ to all the rewards in an episodic task, such as maze running. Would this have any efect, or would it leave the task unchanged as in the continuing task above? Why or why not? Give an example.\n",
    "\n",
    "- ***The signs of the rewards are important for an episodic task. The agent will tend to increase the length of an episode if it receives positive rewards, and vice versa.***\n",
    "- $G_t = \\sum_{k=t+1}^{T} (\\gamma^{k-t-1} R_k + c) = \\sum_{k=t+1}^{T} \\gamma^{k-t-1} R_k + c \\sum_{k=t+1}^{T} \\gamma^{k-t-1} = \\sum_{k=t+1}^{T} \\gamma^{k-t-1} R_k + c \\frac{1-\\gamma^{T+1}}{1-\\gamma}$\n",
    "- ***The term $c \\frac{1-\\gamma^{T+1}}{1-\\gamma}$ is not constant and depends of the length of the trajectory taken.***\n",
    "- ***From Exercise 3.7, give the agent a reward of $-1$ when the robot is not escaping from the maze. If we add a constant $c = 1$ to the rewards, we will face the same problem presented on the original exercise.***"
   ]
  },
  {
   "cell_type": "markdown",
   "metadata": {},
   "source": [
    "#### Exercise 3.17\n",
    "What is the Bellman equation for action values, that is, for $q_\\pi$? It must give the action value $q_\\pi(s, a)$ in terms of the action values, $q_\\pi(s', a')$, of possible successors to the state–action pair $(s, a)$. Hint: The backup diagram to the right corresponds to this equation. Show the sequence of equations analogous to (3.14), but for action values.\n",
    "\n",
    "- $q_\\pi(s, a) = \\mathbb{E}_\\pi [G_t | S_t = s, A_t = a]$\n",
    "- $q_\\pi(s, a) = \\mathbb{E}_\\pi [R_{t+1} + \\gamma G_{t+1} | S_t = s, A_t = a]$\n",
    "- $q_\\pi(s, a) = \\sum_{s',r} p(s', r | s, a) [r + \\gamma \\sum_{a'} \\pi(a' | s') * \\mathbb{E}_\\pi [G_{t+1} | S_t = s', A_t = a']$\n",
    "- $q_\\pi(s, a) = \\sum_{s',r} p(s', r | s, a) [r + \\gamma \\sum_{a'} \\pi(a' | s') * q_\\pi(s', a')]$ for all $s\\in S$, $a\\in A$"
   ]
  },
  {
   "cell_type": "markdown",
   "metadata": {},
   "source": [
    "#### Exercise 3.18\n",
    "The value of a state depends on the values of the actions possible in that state and on how likely each action is to be taken under the current policy. We can think of this in terms of a small backup diagram rooted at the state and considering each possible action.\n",
    "\n",
    "Give the equation corresponding to this intuition and diagram for the value at the root node, $v_\\pi(s)$, in terms of the value at the expected leaf node, $q_\\pi(s, a)$, given $S_t = s$. This equation should include an expectation conditioned on following the policy, $\\pi$. Then give a second equation in which the expected value is written out explicitly in terms of $\\pi(a | s)$ such that no expected value notation appears in the equation.\n",
    "\n",
    "- $v_\\pi(s) = \\mathbb{E}_\\pi [q_\\pi(S_t, a) | S_t = s]$\n",
    "- $v_\\pi(s) = \\sum_{a} \\pi(a | s) * q_\\pi(s, a)$"
   ]
  },
  {
   "cell_type": "markdown",
   "metadata": {},
   "source": [
    "#### Exercise 3.19\n",
    "The value of an action, $q_\\pi(s, a)$, depends on the expected next reward and the expected sum of the remaining rewards. Again we can think of this in terms of a small backup diagram, this one rooted at an action (state–action pair) and branching to the possible next states.\n",
    "\n",
    "Give the equation corresponding to this intuition and diagram for the action value, $q_\\pi(s, a)$, in terms of the expected next reward, $R_{t+1}$, and the expected next state value, $v_\\pi(S_{t+1})$, given that $S_t = s$ and $A_t = a$. This equation should include an expectation but not one conditioned on following the policy. Then give a second equation, writing out the expected value explicitly in terms of $p(s', r|s, a)$ defined by (3.2), such that no expected value notation appears in the equation.\n",
    "\n",
    "- $q_\\pi(s, a) = \\mathbb{E} [R_{t+1} + \\gamma v_\\pi(S_{t+1}) | S_t = s, A_t = a]$\n",
    "- $q_\\pi(s, a) = \\sum_{s',r} p(s', r | s, a) [r + \\gamma v_\\pi(s')]$"
   ]
  },
  {
   "cell_type": "markdown",
   "metadata": {},
   "source": [
    "#### Example 3.8: Solving the Gridworld"
   ]
  },
  {
   "cell_type": "code",
   "execution_count": 4,
   "metadata": {},
   "outputs": [
    {
     "name": "stdout",
     "output_type": "stream",
     "text": [
      "Initial state: [3 2]\n",
      ". A . B . \n",
      ". . . . . \n",
      ". . . B'. \n",
      ". . x . . \n",
      ". A'. . . \n"
     ]
    }
   ],
   "source": [
    "policy = np.array(\n",
    "    [[[1.0, 0.0, 0.0, 0.0], [1/4, 1/4, 1/4, 1/4], [0.0, 0.0, 1.0, 0.0], [1/4, 1/4, 1/4, 1/4], [0.0, 0.0, 1.0, 0.0]],\n",
    "     [[1/2, 1/2, 0.0, 0.0], [0.0, 1.0, 0.0, 0.0], [0.0, 1/2, 1/2, 0.0], [0.0, 0.0, 1.0, 0.0], [0.0, 0.0, 1.0, 0.0]],\n",
    "     [[1/2, 1/2, 0.0, 0.0], [0.0, 1.0, 0.0, 0.0], [0.0, 1/2, 1/2, 0.0], [0.0, 1/2, 1/2, 0.0], [0.0, 1/2, 1/2, 0.0]],\n",
    "     [[1/2, 1/2, 0.0, 0.0], [0.0, 1.0, 0.0, 0.0], [0.0, 1/2, 1/2, 0.0], [0.0, 1/2, 1/2, 0.0], [0.0, 1/2, 1/2, 0.0]],\n",
    "     [[1/2, 1/2, 0.0, 0.0], [0.0, 1.0, 0.0, 0.0], [0.0, 1/2, 1/2, 0.0], [0.0, 1/2, 1/2, 0.0], [0.0, 1/2, 1/2, 0.0]]]\n",
    ")\n",
    "action_str = [\"right\", \"up\", \"left\", \"down\"]\n",
    "state, _ = env.reset(seed=seed)\n",
    "np.random.seed(seed)\n",
    "print(\"Initial state:\", state)\n",
    "env.render()"
   ]
  },
  {
   "cell_type": "code",
   "execution_count": 5,
   "metadata": {},
   "outputs": [
    {
     "name": "stdout",
     "output_type": "stream",
     "text": [
      "Action: up\n",
      "Reward: 0.0\n",
      "Prob: 1.0\n",
      "State: [2 2]\n",
      ". A . B . \n",
      ". . . . . \n",
      ". . x B'. \n",
      ". . . . . \n",
      ". A'. . . \n"
     ]
    }
   ],
   "source": [
    "action = np.random.choice(env.action_space.n, p=policy[tuple(state)].flatten())\n",
    "state, reward, _, _, info = env.step(action)\n",
    "print(\"Action:\", action_str[action])\n",
    "print(\"Reward:\", reward)\n",
    "print(\"Prob:\", info[\"prob\"])\n",
    "print(\"State:\", state)\n",
    "env.render()"
   ]
  },
  {
   "cell_type": "markdown",
   "metadata": {},
   "source": [
    "#### Figure 3.5"
   ]
  },
  {
   "cell_type": "code",
   "execution_count": 6,
   "metadata": {},
   "outputs": [
    {
     "data": {
      "image/png": "[encoded data removed]",
      "text/plain": [
       "<Figure size 640x480 with 2 Axes>"
      ]
     },
     "metadata": {},
     "output_type": "display_data"
    }
   ],
   "source": [
    "gamma = 0.9\n",
    "num_states = env.observation_space.nvec.prod()\n",
    "transition_prob = env.unwrapped.prob.transpose(0, 1, 3, 4, 2)\n",
    "rewards = env.unwrapped.rewards.transpose(0, 1, 3, 4, 2)\n",
    "pol = np.expand_dims(policy, (2, 4))\n",
    "C = (transition_prob @ pol).reshape(num_states, num_states)\n",
    "A = np.eye(num_states) - gamma * C\n",
    "b = ((transition_prob * rewards).sum(axis=(2, 3), keepdims=True) @ pol).reshape(num_states)\n",
    "v = np.linalg.solve(A, b).reshape(env.observation_space.nvec)\n",
    "\n",
    "plt.imshow(v, cmap=\"winter\")\n",
    "for state in product(*[range(i) for i in v.shape]):\n",
    "    plt.text(*state[::-1], f\"{v[state]:.2f}\", ha=\"center\", va=\"center\", color=\"white\")\n",
    "plt.title(\"Optimal state-value function\")\n",
    "plt.colorbar()\n",
    "plt.show()"
   ]
  },
  {
   "cell_type": "markdown",
   "metadata": {},
   "source": [
    "#### Exercise 3.20\n",
    "Draw or describe the optimal state-value function for the golf example.\n",
    "\n",
    "- ***The optimal state-value function $v_*(s)$ is very similar to the $q_*(s, driver)$ action-value function except for the green. Inside the green, it is better to use the putter where the hole can be completed in one stroke.***\n",
    "\n",
    "![image](3_20.png)"
   ]
  },
  {
   "cell_type": "markdown",
   "metadata": {},
   "source": [
    "#### Exercise 3.21\n",
    "Draw or describe the contours of the optimal action-value function for putting, $q_*(s, putter)$, for the golf example.\n",
    "\n",
    "- ***The very first action is constrained to be a putter, but afterwards we can use either putter or driver. The contours will be very similar to the state-value function $v_{putter}$, but with the following optimal action-values $q_*(s, putter)$ starting from the tee: $-4, -4, -3, -3, -2, -1, 0$***\n",
    "\n",
    "![image](3_21.png)"
   ]
  },
  {
   "cell_type": "markdown",
   "metadata": {},
   "source": [
    "#### Exercise 3.22\n",
    "Consider the continuing MDP shown to the right. The only decision to be made is that in the top state, where two actions are available, left and right. The numbers show the rewards that are received deterministically after each action. There are exactly two deterministic policies,\n",
    "$\\pi_{left}$ and $\\pi_{right}$. What policy is optimal if $\\gamma = 0$? If $\\gamma = 0.9$? If $\\gamma = 0.5$?\n",
    "\n",
    "- $\\gamma = 0.0 \\rightarrow \\pi_{left}$\n",
    "- $\\gamma = 0.9 \\rightarrow \\pi_{right}$\n",
    "- $\\gamma = 0.5 \\rightarrow both$"
   ]
  },
  {
   "cell_type": "markdown",
   "metadata": {},
   "source": [
    "#### Exercise 3.23\n",
    "Give the Bellman equation for $q_*$ for the recycling robot.\n",
    "\n",
    "- $q_*(h, s) = \\alpha [r_s + \\gamma \\max \\{q_*(h, s), q_*(h, w)\\}] + (1 - \\alpha) [r_s + \\gamma \\max \\{q_*(l, s), q_*(l, w), q_*(l, re)\\}]$\n",
    "- $q_*(h, w) = r_w + \\gamma \\max \\{q_*(h, s), q_*(h, w)\\}$\n",
    "- $q_*(l, s) = \\beta [r_s + \\gamma \\max \\{q_*(l, s), q_*(l, w), q_*(l, re)\\}] + (1 - \\beta) [-3 + \\gamma \\max \\{q_*(h, s), q_*(h, w)\\}]$\n",
    "- $q_*(l, w) = r_w + \\gamma \\max \\{q_*(l, s), q_*(l, w), q_*(l, re)\\}$\n",
    "- $q_*(l, re) = \\gamma \\max \\{q_*(h, s), q_*(h, w)\\}$\n",
    "\n"
   ]
  },
  {
   "cell_type": "markdown",
   "metadata": {},
   "source": [
    "#### Exercise 3.24\n",
    "Figure 3.5 gives the optimal value of the best state of the gridworld as 24.4, to one decimal place. Use your knowledge of the optimal policy and (3.8) to express this value symbolically, and then to compute it to three decimal places.\n",
    "\n",
    "- $v_*(A) = 10 \\sum_{k=0}^{\\infty} \\gamma^{5k} = \\frac{10}{1 - \\gamma^5} = 24.419$\n"
   ]
  },
  {
   "cell_type": "markdown",
   "metadata": {},
   "source": [
    "#### Exercise 3.25\n",
    "Give an equation for $v_*$ in terms of $q_*$.\n",
    "\n",
    "- $v_*(s) = \\max_a q_*(s, a)$"
   ]
  },
  {
   "cell_type": "markdown",
   "metadata": {},
   "source": [
    "#### Exercise 3.26\n",
    "Give an equation for $q_*$ in terms of $v_*$ and the four-argument $p$.\n",
    "\n",
    "- $q_*(s, a) = \\sum_{s',r} p(s', r | s, a) [r + \\gamma v_*(s')]$"
   ]
  },
  {
   "cell_type": "markdown",
   "metadata": {},
   "source": [
    "#### Exercise 3.27\n",
    "Give an equation for $\\pi_*$ in terms of $q_*$.\n",
    "\n",
    "- $\\pi_*(a | s) = \\left\\{\\begin{array}{ll}\n",
    "      1 / |A| & \\text{if } a \\in A & A = \\argmax_a q_*(s, a) \\\\\n",
    "      0 & \\text{otherwise}\n",
    "      \\end{array} \\right.$"
   ]
  },
  {
   "cell_type": "markdown",
   "metadata": {},
   "source": [
    "#### Exercise 3.28\n",
    "Give an equation for $\\pi_*$ in terms of $v_*$ and the four-argument $p$.\n",
    "\n",
    "- $\\pi_*(a | s) = \\left\\{\\begin{array}{ll}\n",
    "      1 / |A| & \\text{if } a \\in A & A = \\argmax_a \\sum_{s',r} p(s', r | s, a) [r + \\gamma v_*(s')] \\\\\n",
    "      0 & \\text{otherwise}\n",
    "      \\end{array} \\right.$"
   ]
  },
  {
   "cell_type": "markdown",
   "metadata": {},
   "source": [
    "#### Exercise 3.29\n",
    "Rewrite the four Bellman equations for the four value functions ($v_\\pi$, $v_*$, $q_\\pi$, and $q_*$) in terms of the three argument function $p$ (3.4) and the two-argument function $r$ (3.5).\n",
    "\n",
    "***Original Bellman Equations***\n",
    "- $v_\\pi (s) = \\sum_a \\pi(a | s) * \\sum_{s', r} p(s', r| s, a) [r + \\gamma  v_\\pi(s')]$\n",
    "- $v_* (s) = \\max_a \\sum_{s', r} p(s', r| s, a) [r + \\gamma  v_*(s')]$\n",
    "- $q_\\pi(s, a) = \\sum_{s', r} p(s', r| s, a)[r + \\gamma \\sum_{a'} \\pi(a' | s') * q_\\pi(s', a')]$\n",
    "- $q_*(s, a) = \\sum_{s', r} p(s', r| s, a)[r + \\gamma \\max_{a'} q_*(s', a')]$\n",
    "\n",
    "***Modified Bellman Equations V1***\n",
    "- $v_\\pi (s) = \\sum_a \\pi(a | s) * [r(s, a) + \\gamma \\sum_{s'} p(s'| s, a) v_\\pi(s')]$\n",
    "- $v_* (s) = \\max_a [r(s, a) + \\gamma \\sum_{s'} p(s'| s, a) v_*(s')]$\n",
    "- $q_\\pi(s, a) = r(s, a) + \\gamma \\sum_{s'} p(s'| s, a) \\sum_{a'} \\pi(a' | s') * q_\\pi(s', a')$\n",
    "- $q_*(s, a) = r(s, a) + \\gamma \\sum_{s'} p(s'| s, a) \\max_{a'} q_*(s', a')$\n",
    "\n",
    "***Modified Bellman Equations V2***\n",
    "- $v_\\pi (s) = \\sum_a \\pi(a | s) * \\sum_{s'} p(s'| s, a) [r(s, a, s') + \\gamma v_\\pi(s')]$\n",
    "- $v_* (s) = \\max_a \\sum_{s'} p(s'| s, a) [r(s, a, s') + \\gamma v_*(s')]$\n",
    "- $q_\\pi(s, a) = \\sum_{s'} p(s'| s, a) [r(s, a, s') + \\gamma \\sum_{a'} \\pi(a' | s') * q_\\pi(s', a')]$\n",
    "- $q_*(s, a) = \\sum_{s'} p(s'| s, a)[r(s, a, s') + \\gamma \\max_{a'} q_*(s', a')]$"
   ]
  }
 ],
 "metadata": {
  "kernelspec": {
   "display_name": "rlintro",
   "language": "python",
   "name": "python3"
  },
  "language_info": {
   "codemirror_mode": {
    "name": "ipython",
    "version": 3
   },
   "file_extension": ".py",
   "mimetype": "text/x-python",
   "name": "python",
   "nbconvert_exporter": "python",
   "pygments_lexer": "ipython3",
   "version": "3.1.-1"
  }
 },
 "nbformat": 4,
 "nbformat_minor": 2
}
